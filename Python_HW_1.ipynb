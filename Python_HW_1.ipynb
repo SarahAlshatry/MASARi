{
  "nbformat": 4,
  "nbformat_minor": 0,
  "metadata": {
    "colab": {
      "provenance": [],
      "authorship_tag": "ABX9TyPLPPMccAnlF99hP4q6qE66",
      "include_colab_link": true
    },
    "kernelspec": {
      "name": "python3",
      "display_name": "Python 3"
    },
    "language_info": {
      "name": "python"
    }
  },
  "cells": [
    {
      "cell_type": "markdown",
      "metadata": {
        "id": "view-in-github",
        "colab_type": "text"
      },
      "source": [
        "<a href=\"https://colab.research.google.com/github/SarahAlshatry/MASARi/blob/main/Python_HW_1.ipynb\" target=\"_parent\"><img src=\"https://colab.research.google.com/assets/colab-badge.svg\" alt=\"Open In Colab\"/></a>"
      ]
    },
    {
      "cell_type": "code",
      "execution_count": null,
      "metadata": {
        "colab": {
          "base_uri": "https://localhost:8080/"
        },
        "id": "dJHGcEKMt_7t",
        "outputId": "b34978c7-0fb5-443d-c472-da6c28090af0"
      },
      "outputs": [
        {
          "output_type": "stream",
          "name": "stdout",
          "text": [
            "مرحباً بالجميع، اسمي هو ساره الشاطري، عمري 31، وهذه هي بدايتي الأولى لتعلم الباثيون مع معسكر مسار حيث أطمح لأن أكون عالمة بيانات وأخلق لنفسي فرصة عمل بإذن الله :)\n"
          ]
        }
      ],
      "source": [
        "#تعريف لمتغير الاسم وقيمته هو اسمي الثلاثي\n",
        "\n",
        "name =\"ساره الشاطري\"\n",
        "\n",
        "#تعريف لمتغير العمر\n",
        "age = 31\n",
        "\n",
        "\n",
        "#طباعة جملة أتحدث بها عن غايتي من انضمامي لمعسكر مسار\n",
        "print(f'مرحباً بالجميع، اسمي هو {name}، عمري {age}، وهذه هي بدايتي الأولى لتعلم الباثيون مع معسكر مسار حيث أطمح لأن أكون عالمة بيانات وأخلق لنفسي فرصة عمل بإذن الله :)')\n",
        "\n"
      ]
    },
    {
      "cell_type": "code",
      "source": [],
      "metadata": {
        "id": "0MVqltsXwLLY"
      },
      "execution_count": null,
      "outputs": []
    }
  ]
}